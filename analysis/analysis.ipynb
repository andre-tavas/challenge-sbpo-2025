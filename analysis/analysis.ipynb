{
 "cells": [
  {
   "cell_type": "markdown",
   "id": "f53a2d80",
   "metadata": {},
   "source": [
    "# AG fixando num de corredores\n",
    "- AG com vetor de solucoes binario com num de variaveis equivalente a qtde de corredores\n",
    "- Evaluation de um individuo e o numero maximo de items que consegue pegar com os corredores selecionados"
   ]
  },
  {
   "cell_type": "markdown",
   "id": "626ecf89",
   "metadata": {},
   "source": []
  }
 ],
 "metadata": {
  "language_info": {
   "name": "python"
  }
 },
 "nbformat": 4,
 "nbformat_minor": 5
}
